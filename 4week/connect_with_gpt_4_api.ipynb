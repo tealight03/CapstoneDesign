{
  "nbformat": 4,
  "nbformat_minor": 0,
  "metadata": {
    "colab": {
      "provenance": [],
      "gpuType": "T4"
    },
    "kernelspec": {
      "name": "python3",
      "display_name": "Python 3"
    },
    "language_info": {
      "name": "python"
    },
    "accelerator": "GPU"
  },
  "cells": [
    {
      "cell_type": "code",
      "source": [
        "from transformers import AutoTokenizer, AutoModelForSequenceClassification\n",
        "\n",
        "# ✅ Google Drive 마운트\n",
        "from google.colab import drive\n",
        "drive.mount('/content/drive')\n",
        "\n",
        "# ✅ 저장된 경로 지정\n",
        "model_path = \"/content/drive/MyDrive/models/codebert_finetuned_v2\"\n",
        "\n",
        "# ✅ 모델과 토크나이저 불러오기\n",
        "tokenizer = AutoTokenizer.from_pretrained(model_path)\n",
        "model = AutoModelForSequenceClassification.from_pretrained(model_path)\n",
        "\n",
        "print(\"✅ Google Drive에서 모델 불러오기 완료!\")"
      ],
      "metadata": {
        "colab": {
          "base_uri": "https://localhost:8080/"
        },
        "id": "gi0oIHwmUZzI",
        "outputId": "3cc95a51-10a6-4124-a340-3bf0e847561c"
      },
      "execution_count": 2,
      "outputs": [
        {
          "output_type": "stream",
          "name": "stdout",
          "text": [
            "Mounted at /content/drive\n",
            "✅ Google Drive에서 모델 불러오기 완료!\n"
          ]
        }
      ]
    },
    {
      "cell_type": "code",
      "source": [
        "# 최신 openai (v1 이상) 방식\n",
        "from openai import OpenAI\n",
        "\n",
        "# ⚠️ 파일 업로드할 때는 숨기기\n",
        "client = OpenAI(api_key=\"api-key\")\n",
        "\n",
        "def generate_report(code_snippet: str, label: str) -> str:\n",
        "    prompt = f\"\"\"\n",
        "당신은 보안 분석 전문가입니다.\n",
        "아래의 소스 코드는 '{label}' 취약점이 감지된 코드입니다.\n",
        "\n",
        "[취약 코드]\n",
        "{code_snippet}\n",
        "\n",
        "이 코드에 대해 다음 내용을 자세히 설명해주세요:\n",
        "1. 취약점 설명 (왜 위험한가?)\n",
        "2. 공격자가 악용하는 방법\n",
        "3. 보완 방법 (보완된 코드 예시 포함)\n",
        "4. 요약된 보안 권고사항\n",
        "\n",
        "전문적인 보안 분석 보고서 형태로 출력해주세요.\n",
        "\"\"\"\n",
        "\n",
        "    response = client.chat.completions.create(\n",
        "        model=\"gpt-3.5-turbo\",\n",
        "        messages=[\n",
        "            {\"role\": \"system\", \"content\": \"You are a helpful assistant for code security analysis.\"},\n",
        "            {\"role\": \"user\", \"content\": prompt}\n",
        "        ],\n",
        "        temperature=0.3,\n",
        "        max_tokens=2048\n",
        "    )\n",
        "\n",
        "    return response.choices[0].message.content\n"
      ],
      "metadata": {
        "id": "AALC58EiUa6-"
      },
      "execution_count": 9,
      "outputs": []
    },
    {
      "cell_type": "code",
      "source": [
        "# 예제 취약 코드\n",
        "code = \"\"\"\n",
        "user_input = request.args.get('username')\n",
        "query = \"SELECT * FROM users WHERE name = '\" + user_input + \"'\"\n",
        "\"\"\"\n",
        "\n",
        "# CodeBERT 예측 결과\n",
        "predicted_label = \"SQL_Injection\"\n",
        "\n",
        "# 리포트 생성\n",
        "report = generate_report(code, predicted_label)\n",
        "print(\"📄 보안 리포트:\\n\")\n",
        "print(report)"
      ],
      "metadata": {
        "colab": {
          "base_uri": "https://localhost:8080/"
        },
        "id": "xP7hcGp5Ua4y",
        "outputId": "4b3da708-40e2-4e03-a91c-2c76f183396e"
      },
      "execution_count": 10,
      "outputs": [
        {
          "output_type": "stream",
          "name": "stdout",
          "text": [
            "📄 보안 리포트:\n",
            "\n",
            "**보안 분석 보고서**\n",
            "\n",
            "**1. 취약점 설명:**\n",
            "위의 코드는 'SQL Injection' 취약점이 존재합니다. 이는 사용자로부터 입력받은 데이터를 쿼리에 그대로 삽입하는 방식으로 작성되어 있기 때문에 악의적인 SQL 쿼리를 삽입하여 데이터베이스를 조작하거나 민감한 정보를 노출시킬 수 있는 위험이 있습니다.\n",
            "\n",
            "**2. 공격자가 악용하는 방법:**\n",
            "공격자는 사용자 입력란에 SQL 쿼리를 삽입하여 데이터베이스를 조작하거나 민감한 정보를 탈취할 수 있습니다. 예를 들어, 'admin' OR '1'='1'을 입력하여 모든 사용자 정보를 조회할 수 있습니다.\n",
            "\n",
            "**3. 보완 방법:**\n",
            "SQL Injection 취약점을 방지하기 위해서는 사용자 입력을 안전하게 처리해야 합니다. Prepared Statement를 사용하여 사용자 입력을 파라미터로 전달하는 방법이 가장 효과적입니다.\n",
            "\n",
            "**보완된 코드 예시:**\n",
            "```python\n",
            "user_input = request.args.get('username')\n",
            "query = \"SELECT * FROM users WHERE name = %s\"\n",
            "cursor.execute(query, (user_input,))\n",
            "```\n",
            "\n",
            "**4. 요약된 보안 권고사항:**\n",
            "- 사용자 입력을 쿼리에 그대로 삽입하지 말고 Prepared Statement를 사용하여 안전하게 처리해야 합니다.\n",
            "- 입력값을 검증하고 이스케이프 처리하여 SQL Injection 공격을 방어해야 합니다.\n",
            "- 데이터베이스 접근 권한을 최소화하여 공격자가 악용할 수 있는 영역을 최소화해야 합니다.\n",
            "\n",
            "이상으로 'SQL Injection' 취약점에 대한 분석 보고서를 마치겠습니다. 추가 질문이 있으시면 언제든지 문의해주세요. 감사합니다.\n"
          ]
        }
      ]
    },
    {
      "cell_type": "code",
      "source": [],
      "metadata": {
        "id": "Lv3SBNnpomB-"
      },
      "execution_count": null,
      "outputs": []
    }
  ]
}